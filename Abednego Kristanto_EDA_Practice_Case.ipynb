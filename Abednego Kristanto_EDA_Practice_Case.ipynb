{
 "cells": [
  {
   "cell_type": "markdown",
   "metadata": {},
   "source": [
    "# Exploratory Data Analysis Practice Case\n",
    "## Data Fellowship IYKRA Batch 5 2021\n",
    "### Abednego Kristanto"
   ]
  },
  {
   "cell_type": "code",
   "execution_count": 1,
   "metadata": {},
   "outputs": [],
   "source": [
    "import pandas as pd\n",
    "import matplotlib.pyplot as plt"
   ]
  },
  {
   "cell_type": "code",
   "execution_count": 2,
   "metadata": {},
   "outputs": [
    {
     "data": {
      "text/html": [
       "<div>\n",
       "<style scoped>\n",
       "    .dataframe tbody tr th:only-of-type {\n",
       "        vertical-align: middle;\n",
       "    }\n",
       "\n",
       "    .dataframe tbody tr th {\n",
       "        vertical-align: top;\n",
       "    }\n",
       "\n",
       "    .dataframe thead th {\n",
       "        text-align: right;\n",
       "    }\n",
       "</style>\n",
       "<table border=\"1\" class=\"dataframe\">\n",
       "  <thead>\n",
       "    <tr style=\"text-align: right;\">\n",
       "      <th></th>\n",
       "      <th>Team</th>\n",
       "      <th>category</th>\n",
       "      <th>general_league_position</th>\n",
       "      <th>finance _live_games_televised</th>\n",
       "      <th>finance _tv_revenue</th>\n",
       "      <th>general_matches_played</th>\n",
       "      <th>general_won</th>\n",
       "      <th>general_draw</th>\n",
       "      <th>general_lost</th>\n",
       "      <th>attack_scored</th>\n",
       "      <th>...</th>\n",
       "      <th>defence_saves</th>\n",
       "      <th>defence_blocks</th>\n",
       "      <th>defence_interceptions</th>\n",
       "      <th>defence_tackles</th>\n",
       "      <th>defence_tackles_last_man</th>\n",
       "      <th>defence_clearances</th>\n",
       "      <th>defence_clearances_headed</th>\n",
       "      <th>defence_penalty_conceeded</th>\n",
       "      <th>attack_posession</th>\n",
       "      <th>attack_pass_accuracy</th>\n",
       "    </tr>\n",
       "  </thead>\n",
       "  <tbody>\n",
       "    <tr>\n",
       "      <th>0</th>\n",
       "      <td>Manchester City</td>\n",
       "      <td>Champions League</td>\n",
       "      <td>1</td>\n",
       "      <td>26</td>\n",
       "      <td>150986355</td>\n",
       "      <td>38</td>\n",
       "      <td>32</td>\n",
       "      <td>2</td>\n",
       "      <td>4</td>\n",
       "      <td>95</td>\n",
       "      <td>...</td>\n",
       "      <td>58</td>\n",
       "      <td>63</td>\n",
       "      <td>362</td>\n",
       "      <td>518</td>\n",
       "      <td>0</td>\n",
       "      <td>543</td>\n",
       "      <td>295</td>\n",
       "      <td>4</td>\n",
       "      <td>64.0</td>\n",
       "      <td>89.0</td>\n",
       "    </tr>\n",
       "    <tr>\n",
       "      <th>1</th>\n",
       "      <td>Liverpool</td>\n",
       "      <td>Champions League</td>\n",
       "      <td>2</td>\n",
       "      <td>29</td>\n",
       "      <td>152425146</td>\n",
       "      <td>38</td>\n",
       "      <td>30</td>\n",
       "      <td>7</td>\n",
       "      <td>1</td>\n",
       "      <td>89</td>\n",
       "      <td>...</td>\n",
       "      <td>76</td>\n",
       "      <td>78</td>\n",
       "      <td>314</td>\n",
       "      <td>610</td>\n",
       "      <td>2</td>\n",
       "      <td>639</td>\n",
       "      <td>317</td>\n",
       "      <td>1</td>\n",
       "      <td>58.8</td>\n",
       "      <td>84.4</td>\n",
       "    </tr>\n",
       "    <tr>\n",
       "      <th>2</th>\n",
       "      <td>Chelsea</td>\n",
       "      <td>Champions League Qualification</td>\n",
       "      <td>3</td>\n",
       "      <td>25</td>\n",
       "      <td>146030216</td>\n",
       "      <td>38</td>\n",
       "      <td>21</td>\n",
       "      <td>9</td>\n",
       "      <td>8</td>\n",
       "      <td>63</td>\n",
       "      <td>...</td>\n",
       "      <td>85</td>\n",
       "      <td>73</td>\n",
       "      <td>351</td>\n",
       "      <td>618</td>\n",
       "      <td>2</td>\n",
       "      <td>593</td>\n",
       "      <td>330</td>\n",
       "      <td>2</td>\n",
       "      <td>59.9</td>\n",
       "      <td>87.6</td>\n",
       "    </tr>\n",
       "    <tr>\n",
       "      <th>3</th>\n",
       "      <td>Tottenham</td>\n",
       "      <td>Champions League Qualification</td>\n",
       "      <td>4</td>\n",
       "      <td>26</td>\n",
       "      <td>145230801</td>\n",
       "      <td>38</td>\n",
       "      <td>23</td>\n",
       "      <td>2</td>\n",
       "      <td>13</td>\n",
       "      <td>67</td>\n",
       "      <td>...</td>\n",
       "      <td>121</td>\n",
       "      <td>112</td>\n",
       "      <td>326</td>\n",
       "      <td>626</td>\n",
       "      <td>3</td>\n",
       "      <td>770</td>\n",
       "      <td>411</td>\n",
       "      <td>5</td>\n",
       "      <td>56.7</td>\n",
       "      <td>83.2</td>\n",
       "    </tr>\n",
       "    <tr>\n",
       "      <th>4</th>\n",
       "      <td>Arsenal</td>\n",
       "      <td>Europa League</td>\n",
       "      <td>5</td>\n",
       "      <td>25</td>\n",
       "      <td>142193180</td>\n",
       "      <td>38</td>\n",
       "      <td>21</td>\n",
       "      <td>7</td>\n",
       "      <td>10</td>\n",
       "      <td>73</td>\n",
       "      <td>...</td>\n",
       "      <td>133</td>\n",
       "      <td>118</td>\n",
       "      <td>412</td>\n",
       "      <td>609</td>\n",
       "      <td>2</td>\n",
       "      <td>762</td>\n",
       "      <td>404</td>\n",
       "      <td>7</td>\n",
       "      <td>56.1</td>\n",
       "      <td>83.3</td>\n",
       "    </tr>\n",
       "  </tbody>\n",
       "</table>\n",
       "<p>5 rows × 44 columns</p>\n",
       "</div>"
      ],
      "text/plain": [
       "              Team                        category  general_league_position  \\\n",
       "0  Manchester City                Champions League                        1   \n",
       "1        Liverpool                Champions League                        2   \n",
       "2          Chelsea  Champions League Qualification                        3   \n",
       "3        Tottenham  Champions League Qualification                        4   \n",
       "4          Arsenal                   Europa League                        5   \n",
       "\n",
       "   finance _live_games_televised  finance _tv_revenue  general_matches_played  \\\n",
       "0                             26            150986355                      38   \n",
       "1                             29            152425146                      38   \n",
       "2                             25            146030216                      38   \n",
       "3                             26            145230801                      38   \n",
       "4                             25            142193180                      38   \n",
       "\n",
       "   general_won  general_draw  general_lost  attack_scored  ...  defence_saves  \\\n",
       "0           32             2             4             95  ...             58   \n",
       "1           30             7             1             89  ...             76   \n",
       "2           21             9             8             63  ...             85   \n",
       "3           23             2            13             67  ...            121   \n",
       "4           21             7            10             73  ...            133   \n",
       "\n",
       "   defence_blocks  defence_interceptions  defence_tackles  \\\n",
       "0              63                    362              518   \n",
       "1              78                    314              610   \n",
       "2              73                    351              618   \n",
       "3             112                    326              626   \n",
       "4             118                    412              609   \n",
       "\n",
       "   defence_tackles_last_man  defence_clearances  defence_clearances_headed  \\\n",
       "0                         0                 543                        295   \n",
       "1                         2                 639                        317   \n",
       "2                         2                 593                        330   \n",
       "3                         3                 770                        411   \n",
       "4                         2                 762                        404   \n",
       "\n",
       "   defence_penalty_conceeded attack_posession  attack_pass_accuracy  \n",
       "0                          4             64.0                  89.0  \n",
       "1                          1             58.8                  84.4  \n",
       "2                          2             59.9                  87.6  \n",
       "3                          5             56.7                  83.2  \n",
       "4                          7             56.1                  83.3  \n",
       "\n",
       "[5 rows x 44 columns]"
      ]
     },
     "execution_count": 2,
     "metadata": {},
     "output_type": "execute_result"
    }
   ],
   "source": [
    "df = pd.read_csv('epl_1819.csv')\n",
    "df.head()"
   ]
  },
  {
   "cell_type": "code",
   "execution_count": 3,
   "metadata": {},
   "outputs": [
    {
     "data": {
      "text/plain": [
       "(20, 44)"
      ]
     },
     "execution_count": 3,
     "metadata": {},
     "output_type": "execute_result"
    }
   ],
   "source": [
    "df.shape"
   ]
  },
  {
   "cell_type": "markdown",
   "metadata": {},
   "source": [
    "### 1. Whether this data is clean?"
   ]
  },
  {
   "cell_type": "markdown",
   "metadata": {},
   "source": [
    "Check missing value:"
   ]
  },
  {
   "cell_type": "code",
   "execution_count": 4,
   "metadata": {},
   "outputs": [
    {
     "data": {
      "text/plain": [
       "Team                             0\n",
       "category                         0\n",
       "general_league_position          0\n",
       "finance _live_games_televised    0\n",
       "finance _tv_revenue              0\n",
       "general_matches_played           0\n",
       "general_won                      0\n",
       "general_draw                     0\n",
       "general_lost                     0\n",
       "attack_scored                    0\n",
       "defence_goals_conceeded          0\n",
       "general_goal_difference          0\n",
       "general_points                   0\n",
       "general_squad_size               0\n",
       "general_squad_average_age        0\n",
       "general_squad_foreigners         0\n",
       "finance _team_market             0\n",
       "finance _market_average          0\n",
       "attack_passes                    0\n",
       "attack_passes_through            0\n",
       "attack_passes_long               0\n",
       "attack_passes_back               0\n",
       "attack_crosses                   0\n",
       "attack_corners_taken             0\n",
       "attack_shots                     0\n",
       "attack_shots_on_target           0\n",
       "attack_goals_headed              0\n",
       "attack_goals_penalty             0\n",
       "attack_goals_box                 0\n",
       "attack_goals_outsidebox          0\n",
       "general_card_yellow              0\n",
       "general_card_red                 0\n",
       "attack_goals_counter             0\n",
       "attack_goals_freekick            0\n",
       "defence_saves                    0\n",
       "defence_blocks                   0\n",
       "defence_interceptions            0\n",
       "defence_tackles                  0\n",
       "defence_tackles_last_man         0\n",
       "defence_clearances               0\n",
       "defence_clearances_headed        0\n",
       "defence_penalty_conceeded        0\n",
       "attack_posession                 0\n",
       "attack_pass_accuracy             0\n",
       "dtype: int64"
      ]
     },
     "execution_count": 4,
     "metadata": {},
     "output_type": "execute_result"
    }
   ],
   "source": [
    "df.isnull().sum()"
   ]
  },
  {
   "cell_type": "markdown",
   "metadata": {},
   "source": [
    "There are no missing values in the dataset."
   ]
  },
  {
   "cell_type": "markdown",
   "metadata": {},
   "source": [
    "Check the data types:"
   ]
  },
  {
   "cell_type": "code",
   "execution_count": 5,
   "metadata": {},
   "outputs": [
    {
     "data": {
      "text/plain": [
       "Team                              object\n",
       "category                          object\n",
       "general_league_position            int64\n",
       "finance _live_games_televised      int64\n",
       "finance _tv_revenue                int64\n",
       "general_matches_played             int64\n",
       "general_won                        int64\n",
       "general_draw                       int64\n",
       "general_lost                       int64\n",
       "attack_scored                      int64\n",
       "defence_goals_conceeded            int64\n",
       "general_goal_difference            int64\n",
       "general_points                     int64\n",
       "general_squad_size                 int64\n",
       "general_squad_average_age        float64\n",
       "general_squad_foreigners           int64\n",
       "finance _team_market               int64\n",
       "finance _market_average            int64\n",
       "attack_passes                     object\n",
       "attack_passes_through              int64\n",
       "attack_passes_long                object\n",
       "attack_passes_back                object\n",
       "attack_crosses                     int64\n",
       "attack_corners_taken               int64\n",
       "attack_shots                       int64\n",
       "attack_shots_on_target             int64\n",
       "attack_goals_headed                int64\n",
       "attack_goals_penalty               int64\n",
       "attack_goals_box                   int64\n",
       "attack_goals_outsidebox            int64\n",
       "general_card_yellow                int64\n",
       "general_card_red                   int64\n",
       "attack_goals_counter               int64\n",
       "attack_goals_freekick              int64\n",
       "defence_saves                      int64\n",
       "defence_blocks                     int64\n",
       "defence_interceptions              int64\n",
       "defence_tackles                    int64\n",
       "defence_tackles_last_man           int64\n",
       "defence_clearances                object\n",
       "defence_clearances_headed          int64\n",
       "defence_penalty_conceeded          int64\n",
       "attack_posession                 float64\n",
       "attack_pass_accuracy             float64\n",
       "dtype: object"
      ]
     },
     "execution_count": 5,
     "metadata": {},
     "output_type": "execute_result"
    }
   ],
   "source": [
    "df.dtypes"
   ]
  },
  {
   "cell_type": "code",
   "execution_count": 6,
   "metadata": {},
   "outputs": [
    {
     "data": {
      "text/html": [
       "<div>\n",
       "<style scoped>\n",
       "    .dataframe tbody tr th:only-of-type {\n",
       "        vertical-align: middle;\n",
       "    }\n",
       "\n",
       "    .dataframe tbody tr th {\n",
       "        vertical-align: top;\n",
       "    }\n",
       "\n",
       "    .dataframe thead th {\n",
       "        text-align: right;\n",
       "    }\n",
       "</style>\n",
       "<table border=\"1\" class=\"dataframe\">\n",
       "  <thead>\n",
       "    <tr style=\"text-align: right;\">\n",
       "      <th></th>\n",
       "      <th>attack_passes</th>\n",
       "      <th>attack_passes_long</th>\n",
       "      <th>attack_passes_back</th>\n",
       "      <th>defence_clearances</th>\n",
       "    </tr>\n",
       "  </thead>\n",
       "  <tbody>\n",
       "    <tr>\n",
       "      <th>0</th>\n",
       "      <td>26,581</td>\n",
       "      <td>1,814</td>\n",
       "      <td>4,240</td>\n",
       "      <td>543</td>\n",
       "    </tr>\n",
       "    <tr>\n",
       "      <th>1</th>\n",
       "      <td>23,638</td>\n",
       "      <td>2,250</td>\n",
       "      <td>3,416</td>\n",
       "      <td>639</td>\n",
       "    </tr>\n",
       "    <tr>\n",
       "      <th>2</th>\n",
       "      <td>25,070</td>\n",
       "      <td>1,774</td>\n",
       "      <td>3,874</td>\n",
       "      <td>593</td>\n",
       "    </tr>\n",
       "    <tr>\n",
       "      <th>3</th>\n",
       "      <td>21,295</td>\n",
       "      <td>2,267</td>\n",
       "      <td>3,191</td>\n",
       "      <td>770</td>\n",
       "    </tr>\n",
       "    <tr>\n",
       "      <th>4</th>\n",
       "      <td>20,805</td>\n",
       "      <td>2,062</td>\n",
       "      <td>3,102</td>\n",
       "      <td>762</td>\n",
       "    </tr>\n",
       "  </tbody>\n",
       "</table>\n",
       "</div>"
      ],
      "text/plain": [
       "  attack_passes attack_passes_long attack_passes_back defence_clearances\n",
       "0        26,581              1,814              4,240                543\n",
       "1        23,638              2,250              3,416                639\n",
       "2        25,070              1,774              3,874                593\n",
       "3        21,295              2,267              3,191                770\n",
       "4        20,805              2,062              3,102                762"
      ]
     },
     "execution_count": 6,
     "metadata": {},
     "output_type": "execute_result"
    }
   ],
   "source": [
    "df[['attack_passes','attack_passes_long','attack_passes_back','defence_clearances']].head()"
   ]
  },
  {
   "cell_type": "markdown",
   "metadata": {},
   "source": [
    "#### Answer:\n",
    "The data is not clean because there are still columns with wrong data types. To clean the dataset, commas in these columns will be removed and its values is converted into 'int64'."
   ]
  },
  {
   "cell_type": "code",
   "execution_count": 7,
   "metadata": {},
   "outputs": [
    {
     "name": "stdout",
     "output_type": "stream",
     "text": [
      "attack_passes         int64\n",
      "attack_passes_long    int64\n",
      "attack_passes_back    int64\n",
      "defence_clearances    int64\n",
      "dtype: object\n"
     ]
    },
    {
     "data": {
      "text/html": [
       "<div>\n",
       "<style scoped>\n",
       "    .dataframe tbody tr th:only-of-type {\n",
       "        vertical-align: middle;\n",
       "    }\n",
       "\n",
       "    .dataframe tbody tr th {\n",
       "        vertical-align: top;\n",
       "    }\n",
       "\n",
       "    .dataframe thead th {\n",
       "        text-align: right;\n",
       "    }\n",
       "</style>\n",
       "<table border=\"1\" class=\"dataframe\">\n",
       "  <thead>\n",
       "    <tr style=\"text-align: right;\">\n",
       "      <th></th>\n",
       "      <th>attack_passes</th>\n",
       "      <th>attack_passes_long</th>\n",
       "      <th>attack_passes_back</th>\n",
       "      <th>defence_clearances</th>\n",
       "    </tr>\n",
       "  </thead>\n",
       "  <tbody>\n",
       "    <tr>\n",
       "      <th>0</th>\n",
       "      <td>26581</td>\n",
       "      <td>1814</td>\n",
       "      <td>4240</td>\n",
       "      <td>543</td>\n",
       "    </tr>\n",
       "    <tr>\n",
       "      <th>1</th>\n",
       "      <td>23638</td>\n",
       "      <td>2250</td>\n",
       "      <td>3416</td>\n",
       "      <td>639</td>\n",
       "    </tr>\n",
       "    <tr>\n",
       "      <th>2</th>\n",
       "      <td>25070</td>\n",
       "      <td>1774</td>\n",
       "      <td>3874</td>\n",
       "      <td>593</td>\n",
       "    </tr>\n",
       "    <tr>\n",
       "      <th>3</th>\n",
       "      <td>21295</td>\n",
       "      <td>2267</td>\n",
       "      <td>3191</td>\n",
       "      <td>770</td>\n",
       "    </tr>\n",
       "    <tr>\n",
       "      <th>4</th>\n",
       "      <td>20805</td>\n",
       "      <td>2062</td>\n",
       "      <td>3102</td>\n",
       "      <td>762</td>\n",
       "    </tr>\n",
       "  </tbody>\n",
       "</table>\n",
       "</div>"
      ],
      "text/plain": [
       "   attack_passes  attack_passes_long  attack_passes_back  defence_clearances\n",
       "0          26581                1814                4240                 543\n",
       "1          23638                2250                3416                 639\n",
       "2          25070                1774                3874                 593\n",
       "3          21295                2267                3191                 770\n",
       "4          20805                2062                3102                 762"
      ]
     },
     "execution_count": 7,
     "metadata": {},
     "output_type": "execute_result"
    }
   ],
   "source": [
    "strs = ['attack_passes','attack_passes_long','attack_passes_back','defence_clearances']\n",
    "for s in strs:\n",
    "    df[[s]] = df[s].str.replace(',','').astype('int64')\n",
    "\n",
    "print(df[['attack_passes','attack_passes_long','attack_passes_back','defence_clearances']].dtypes)\n",
    "df[['attack_passes','attack_passes_long','attack_passes_back','defence_clearances']].head()"
   ]
  },
  {
   "cell_type": "markdown",
   "metadata": {},
   "source": [
    "### 2. How is the point distribution of the epl team? and which team is an anomaly?"
   ]
  },
  {
   "cell_type": "code",
   "execution_count": 8,
   "metadata": {
    "scrolled": true
   },
   "outputs": [
    {
     "data": {
      "image/png": "[encoded data removed]",
      "text/plain": [
       "<Figure size 432x288 with 1 Axes>"
      ]
     },
     "metadata": {
      "needs_background": "light"
     },
     "output_type": "display_data"
    }
   ],
   "source": [
    "df.plot.barh(x='Team',y='general_points').invert_yaxis()"
   ]
  },
  {
   "cell_type": "markdown",
   "metadata": {},
   "source": [
    "#### Answer:\n",
    "Manchester City and Liverpool are anomalies here because their points are leaving other teams behind by very high margin (more than 20 points from nearest position, Chelsea)."
   ]
  },
  {
   "cell_type": "markdown",
   "metadata": {},
   "source": [
    "### 3. Which team has the best attack?\n",
    "Features to determine which team has the best attack are: 'attack_scored', 'attack_shots_on_target', 'attack_posession', and 'attack_pass_accuracy' with weighting as follows:"
   ]
  },
  {
   "cell_type": "markdown",
   "metadata": {},
   "source": [
    "| Feature | Weight |\n",
    "| --- | --- |\n",
    "|'attack_scored'|45|\n",
    "|'attack_shots_on_target'|35|\n",
    "|'attack_pass_accuracy'|10|\n",
    "|'attack_posession'|10|\n",
    "|Total|100|"
   ]
  },
  {
   "cell_type": "code",
   "execution_count": 9,
   "metadata": {},
   "outputs": [
    {
     "data": {
      "text/html": [
       "<div>\n",
       "<style scoped>\n",
       "    .dataframe tbody tr th:only-of-type {\n",
       "        vertical-align: middle;\n",
       "    }\n",
       "\n",
       "    .dataframe tbody tr th {\n",
       "        vertical-align: top;\n",
       "    }\n",
       "\n",
       "    .dataframe thead th {\n",
       "        text-align: right;\n",
       "    }\n",
       "</style>\n",
       "<table border=\"1\" class=\"dataframe\">\n",
       "  <thead>\n",
       "    <tr style=\"text-align: right;\">\n",
       "      <th></th>\n",
       "      <th>Team</th>\n",
       "      <th>attack_scored</th>\n",
       "      <th>attack_shots_on_target</th>\n",
       "      <th>attack_posession</th>\n",
       "      <th>attack_pass_accuracy</th>\n",
       "    </tr>\n",
       "  </thead>\n",
       "  <tbody>\n",
       "    <tr>\n",
       "      <th>0</th>\n",
       "      <td>Manchester City</td>\n",
       "      <td>95</td>\n",
       "      <td>260</td>\n",
       "      <td>64.0</td>\n",
       "      <td>89.0</td>\n",
       "    </tr>\n",
       "    <tr>\n",
       "      <th>1</th>\n",
       "      <td>Liverpool</td>\n",
       "      <td>89</td>\n",
       "      <td>226</td>\n",
       "      <td>58.8</td>\n",
       "      <td>84.4</td>\n",
       "    </tr>\n",
       "    <tr>\n",
       "      <th>2</th>\n",
       "      <td>Chelsea</td>\n",
       "      <td>63</td>\n",
       "      <td>198</td>\n",
       "      <td>59.9</td>\n",
       "      <td>87.6</td>\n",
       "    </tr>\n",
       "    <tr>\n",
       "      <th>3</th>\n",
       "      <td>Tottenham</td>\n",
       "      <td>67</td>\n",
       "      <td>189</td>\n",
       "      <td>56.7</td>\n",
       "      <td>83.2</td>\n",
       "    </tr>\n",
       "    <tr>\n",
       "      <th>4</th>\n",
       "      <td>Arsenal</td>\n",
       "      <td>73</td>\n",
       "      <td>170</td>\n",
       "      <td>56.1</td>\n",
       "      <td>83.3</td>\n",
       "    </tr>\n",
       "  </tbody>\n",
       "</table>\n",
       "</div>"
      ],
      "text/plain": [
       "              Team  attack_scored  attack_shots_on_target  attack_posession  \\\n",
       "0  Manchester City             95                     260              64.0   \n",
       "1        Liverpool             89                     226              58.8   \n",
       "2          Chelsea             63                     198              59.9   \n",
       "3        Tottenham             67                     189              56.7   \n",
       "4          Arsenal             73                     170              56.1   \n",
       "\n",
       "   attack_pass_accuracy  \n",
       "0                  89.0  \n",
       "1                  84.4  \n",
       "2                  87.6  \n",
       "3                  83.2  \n",
       "4                  83.3  "
      ]
     },
     "execution_count": 9,
     "metadata": {},
     "output_type": "execute_result"
    }
   ],
   "source": [
    "df_att = df[['Team', 'attack_scored', 'attack_shots_on_target', 'attack_posession','attack_pass_accuracy']]\n",
    "df_att.head()"
   ]
  },
  {
   "cell_type": "markdown",
   "metadata": {},
   "source": [
    "Normalize values using sklearn MinMaxScaler to calculate Attack rating for each team:"
   ]
  },
  {
   "cell_type": "code",
   "execution_count": 10,
   "metadata": {},
   "outputs": [
    {
     "name": "stderr",
     "output_type": "stream",
     "text": [
      "C:\\Users\\ABEDNEGO\\Anaconda3\\lib\\site-packages\\sklearn\\preprocessing\\data.py:334: DataConversionWarning: Data with input dtype int64, float64 were all converted to float64 by MinMaxScaler.\n",
      "  return self.partial_fit(X, y)\n",
      "C:\\Users\\ABEDNEGO\\Anaconda3\\lib\\site-packages\\ipykernel_launcher.py:5: SettingWithCopyWarning: \n",
      "A value is trying to be set on a copy of a slice from a DataFrame.\n",
      "Try using .loc[row_indexer,col_indexer] = value instead\n",
      "\n",
      "See the caveats in the documentation: https://pandas.pydata.org/pandas-docs/stable/user_guide/indexing.html#returning-a-view-versus-a-copy\n",
      "  \"\"\"\n",
      "C:\\Users\\ABEDNEGO\\Anaconda3\\lib\\site-packages\\pandas\\core\\indexing.py:1736: SettingWithCopyWarning: \n",
      "A value is trying to be set on a copy of a slice from a DataFrame.\n",
      "Try using .loc[row_indexer,col_indexer] = value instead\n",
      "\n",
      "See the caveats in the documentation: https://pandas.pydata.org/pandas-docs/stable/user_guide/indexing.html#returning-a-view-versus-a-copy\n",
      "  isetter(loc, value[:, i].tolist())\n",
      "C:\\Users\\ABEDNEGO\\Anaconda3\\lib\\site-packages\\ipykernel_launcher.py:7: SettingWithCopyWarning: \n",
      "A value is trying to be set on a copy of a slice from a DataFrame.\n",
      "Try using .loc[row_indexer,col_indexer] = value instead\n",
      "\n",
      "See the caveats in the documentation: https://pandas.pydata.org/pandas-docs/stable/user_guide/indexing.html#returning-a-view-versus-a-copy\n",
      "  import sys\n"
     ]
    },
    {
     "data": {
      "text/html": [
       "<div>\n",
       "<style scoped>\n",
       "    .dataframe tbody tr th:only-of-type {\n",
       "        vertical-align: middle;\n",
       "    }\n",
       "\n",
       "    .dataframe tbody tr th {\n",
       "        vertical-align: top;\n",
       "    }\n",
       "\n",
       "    .dataframe thead th {\n",
       "        text-align: right;\n",
       "    }\n",
       "</style>\n",
       "<table border=\"1\" class=\"dataframe\">\n",
       "  <thead>\n",
       "    <tr style=\"text-align: right;\">\n",
       "      <th></th>\n",
       "      <th>Team</th>\n",
       "      <th>attack_scored</th>\n",
       "      <th>attack_shots_on_target</th>\n",
       "      <th>attack_posession</th>\n",
       "      <th>attack_pass_accuracy</th>\n",
       "      <th>Total_Rating</th>\n",
       "    </tr>\n",
       "  </thead>\n",
       "  <tbody>\n",
       "    <tr>\n",
       "      <th>0</th>\n",
       "      <td>Manchester City</td>\n",
       "      <td>1.000000</td>\n",
       "      <td>1.000000</td>\n",
       "      <td>1.000000</td>\n",
       "      <td>1.000000</td>\n",
       "      <td>100.000000</td>\n",
       "    </tr>\n",
       "    <tr>\n",
       "      <th>1</th>\n",
       "      <td>Liverpool</td>\n",
       "      <td>0.917808</td>\n",
       "      <td>0.776316</td>\n",
       "      <td>0.791165</td>\n",
       "      <td>0.816733</td>\n",
       "      <td>84.551400</td>\n",
       "    </tr>\n",
       "    <tr>\n",
       "      <th>5</th>\n",
       "      <td>Manchester United</td>\n",
       "      <td>0.589041</td>\n",
       "      <td>0.769737</td>\n",
       "      <td>0.570281</td>\n",
       "      <td>0.733068</td>\n",
       "      <td>66.481127</td>\n",
       "    </tr>\n",
       "    <tr>\n",
       "      <th>2</th>\n",
       "      <td>Chelsea</td>\n",
       "      <td>0.561644</td>\n",
       "      <td>0.592105</td>\n",
       "      <td>0.835341</td>\n",
       "      <td>0.944223</td>\n",
       "      <td>63.793302</td>\n",
       "    </tr>\n",
       "    <tr>\n",
       "      <th>3</th>\n",
       "      <td>Tottenham</td>\n",
       "      <td>0.616438</td>\n",
       "      <td>0.532895</td>\n",
       "      <td>0.706827</td>\n",
       "      <td>0.768924</td>\n",
       "      <td>61.148558</td>\n",
       "    </tr>\n",
       "  </tbody>\n",
       "</table>\n",
       "</div>"
      ],
      "text/plain": [
       "                Team  attack_scored  attack_shots_on_target  attack_posession  \\\n",
       "0    Manchester City       1.000000                1.000000          1.000000   \n",
       "1          Liverpool       0.917808                0.776316          0.791165   \n",
       "5  Manchester United       0.589041                0.769737          0.570281   \n",
       "2            Chelsea       0.561644                0.592105          0.835341   \n",
       "3          Tottenham       0.616438                0.532895          0.706827   \n",
       "\n",
       "   attack_pass_accuracy  Total_Rating  \n",
       "0              1.000000    100.000000  \n",
       "1              0.816733     84.551400  \n",
       "5              0.733068     66.481127  \n",
       "2              0.944223     63.793302  \n",
       "3              0.768924     61.148558  "
      ]
     },
     "execution_count": 10,
     "metadata": {},
     "output_type": "execute_result"
    }
   ],
   "source": [
    "from sklearn.preprocessing import MinMaxScaler\n",
    "scaler = MinMaxScaler()\n",
    "\n",
    "df_att[['attack_scored', 'attack_shots_on_target', 'attack_posession','attack_pass_accuracy']] = \\\n",
    "    scaler.fit_transform(df_att[['attack_scored', 'attack_shots_on_target', 'attack_posession','attack_pass_accuracy']])\n",
    "df_att['Total_Rating'] = df_att['attack_scored']*45 + df_att['attack_shots_on_target']*35 + \\\n",
    "    df_att['attack_posession']*10 + df_att['attack_pass_accuracy']*10\n",
    "\n",
    "df_att.sort_values(by='Total_Rating', ascending=False).head()"
   ]
  },
  {
   "cell_type": "markdown",
   "metadata": {},
   "source": [
    "#### Answer:\n",
    "Manchester City is without doubt the team that has the best attacking performance in English Premier League Season 2018/2019, leaving behind its competitors with high margin. Surprisingly, Manchester United that finished in 6th place that season was actually in 3rd place of the total rating above."
   ]
  },
  {
   "cell_type": "markdown",
   "metadata": {},
   "source": [
    "### 4. Which team has the best defence?\n",
    "Features to determine which team has the best defense are: -('defence_goals_conceeded'), 'defence_saves', 'defence_blocks', 'defence_interceptions', and 'defence_tackles'. Feature 'defence_goals_conceeded' is given minus because the more team conceeded, the worse the defence performance. The features weight for defence rating are as follows: "
   ]
  },
  {
   "cell_type": "markdown",
   "metadata": {},
   "source": [
    "| Feature | Weight |\n",
    "| --- | --- |\n",
    "|-('defence_goals_conceeded')|60|\n",
    "|'defence_saves'|10|\n",
    "|'defence_blocks'|10|\n",
    "|'defence_interceptions'|10|\n",
    "|'defence_tackles'|10|\n",
    "|Total|100|"
   ]
  },
  {
   "cell_type": "code",
   "execution_count": 11,
   "metadata": {},
   "outputs": [
    {
     "name": "stderr",
     "output_type": "stream",
     "text": [
      "C:\\Users\\ABEDNEGO\\Anaconda3\\lib\\site-packages\\ipykernel_launcher.py:2: SettingWithCopyWarning: \n",
      "A value is trying to be set on a copy of a slice from a DataFrame.\n",
      "Try using .loc[row_indexer,col_indexer] = value instead\n",
      "\n",
      "See the caveats in the documentation: https://pandas.pydata.org/pandas-docs/stable/user_guide/indexing.html#returning-a-view-versus-a-copy\n",
      "  \n"
     ]
    },
    {
     "data": {
      "text/html": [
       "<div>\n",
       "<style scoped>\n",
       "    .dataframe tbody tr th:only-of-type {\n",
       "        vertical-align: middle;\n",
       "    }\n",
       "\n",
       "    .dataframe tbody tr th {\n",
       "        vertical-align: top;\n",
       "    }\n",
       "\n",
       "    .dataframe thead th {\n",
       "        text-align: right;\n",
       "    }\n",
       "</style>\n",
       "<table border=\"1\" class=\"dataframe\">\n",
       "  <thead>\n",
       "    <tr style=\"text-align: right;\">\n",
       "      <th></th>\n",
       "      <th>Team</th>\n",
       "      <th>defence_saves</th>\n",
       "      <th>defence_blocks</th>\n",
       "      <th>defence_interceptions</th>\n",
       "      <th>defence_tackles</th>\n",
       "      <th>-(defence_goals_conceeded)</th>\n",
       "    </tr>\n",
       "  </thead>\n",
       "  <tbody>\n",
       "    <tr>\n",
       "      <th>0</th>\n",
       "      <td>Manchester City</td>\n",
       "      <td>58</td>\n",
       "      <td>63</td>\n",
       "      <td>362</td>\n",
       "      <td>518</td>\n",
       "      <td>-23</td>\n",
       "    </tr>\n",
       "    <tr>\n",
       "      <th>1</th>\n",
       "      <td>Liverpool</td>\n",
       "      <td>76</td>\n",
       "      <td>78</td>\n",
       "      <td>314</td>\n",
       "      <td>610</td>\n",
       "      <td>-22</td>\n",
       "    </tr>\n",
       "    <tr>\n",
       "      <th>2</th>\n",
       "      <td>Chelsea</td>\n",
       "      <td>85</td>\n",
       "      <td>73</td>\n",
       "      <td>351</td>\n",
       "      <td>618</td>\n",
       "      <td>-39</td>\n",
       "    </tr>\n",
       "    <tr>\n",
       "      <th>3</th>\n",
       "      <td>Tottenham</td>\n",
       "      <td>121</td>\n",
       "      <td>112</td>\n",
       "      <td>326</td>\n",
       "      <td>626</td>\n",
       "      <td>-39</td>\n",
       "    </tr>\n",
       "    <tr>\n",
       "      <th>4</th>\n",
       "      <td>Arsenal</td>\n",
       "      <td>133</td>\n",
       "      <td>118</td>\n",
       "      <td>412</td>\n",
       "      <td>609</td>\n",
       "      <td>-51</td>\n",
       "    </tr>\n",
       "  </tbody>\n",
       "</table>\n",
       "</div>"
      ],
      "text/plain": [
       "              Team  defence_saves  defence_blocks  defence_interceptions  \\\n",
       "0  Manchester City             58              63                    362   \n",
       "1        Liverpool             76              78                    314   \n",
       "2          Chelsea             85              73                    351   \n",
       "3        Tottenham            121             112                    326   \n",
       "4          Arsenal            133             118                    412   \n",
       "\n",
       "   defence_tackles  -(defence_goals_conceeded)  \n",
       "0              518                         -23  \n",
       "1              610                         -22  \n",
       "2              618                         -39  \n",
       "3              626                         -39  \n",
       "4              609                         -51  "
      ]
     },
     "execution_count": 11,
     "metadata": {},
     "output_type": "execute_result"
    }
   ],
   "source": [
    "df_def = df[['Team', 'defence_saves', 'defence_blocks', 'defence_interceptions','defence_tackles']]\n",
    "df_def['-(defence_goals_conceeded)'] = - df[['defence_goals_conceeded']]\n",
    "df_def.head()"
   ]
  },
  {
   "cell_type": "code",
   "execution_count": 12,
   "metadata": {
    "scrolled": false
   },
   "outputs": [
    {
     "name": "stderr",
     "output_type": "stream",
     "text": [
      "C:\\Users\\ABEDNEGO\\Anaconda3\\lib\\site-packages\\sklearn\\preprocessing\\data.py:334: DataConversionWarning: Data with input dtype int64 were all converted to float64 by MinMaxScaler.\n",
      "  return self.partial_fit(X, y)\n",
      "C:\\Users\\ABEDNEGO\\Anaconda3\\lib\\site-packages\\ipykernel_launcher.py:2: SettingWithCopyWarning: \n",
      "A value is trying to be set on a copy of a slice from a DataFrame.\n",
      "Try using .loc[row_indexer,col_indexer] = value instead\n",
      "\n",
      "See the caveats in the documentation: https://pandas.pydata.org/pandas-docs/stable/user_guide/indexing.html#returning-a-view-versus-a-copy\n",
      "  \n",
      "C:\\Users\\ABEDNEGO\\Anaconda3\\lib\\site-packages\\pandas\\core\\indexing.py:1736: SettingWithCopyWarning: \n",
      "A value is trying to be set on a copy of a slice from a DataFrame.\n",
      "Try using .loc[row_indexer,col_indexer] = value instead\n",
      "\n",
      "See the caveats in the documentation: https://pandas.pydata.org/pandas-docs/stable/user_guide/indexing.html#returning-a-view-versus-a-copy\n",
      "  isetter(loc, value[:, i].tolist())\n",
      "C:\\Users\\ABEDNEGO\\Anaconda3\\lib\\site-packages\\ipykernel_launcher.py:4: SettingWithCopyWarning: \n",
      "A value is trying to be set on a copy of a slice from a DataFrame.\n",
      "Try using .loc[row_indexer,col_indexer] = value instead\n",
      "\n",
      "See the caveats in the documentation: https://pandas.pydata.org/pandas-docs/stable/user_guide/indexing.html#returning-a-view-versus-a-copy\n",
      "  after removing the cwd from sys.path.\n"
     ]
    },
    {
     "data": {
      "text/html": [
       "<div>\n",
       "<style scoped>\n",
       "    .dataframe tbody tr th:only-of-type {\n",
       "        vertical-align: middle;\n",
       "    }\n",
       "\n",
       "    .dataframe tbody tr th {\n",
       "        vertical-align: top;\n",
       "    }\n",
       "\n",
       "    .dataframe thead th {\n",
       "        text-align: right;\n",
       "    }\n",
       "</style>\n",
       "<table border=\"1\" class=\"dataframe\">\n",
       "  <thead>\n",
       "    <tr style=\"text-align: right;\">\n",
       "      <th></th>\n",
       "      <th>Team</th>\n",
       "      <th>defence_saves</th>\n",
       "      <th>defence_blocks</th>\n",
       "      <th>defence_interceptions</th>\n",
       "      <th>defence_tackles</th>\n",
       "      <th>-(defence_goals_conceeded)</th>\n",
       "      <th>Total_Rating</th>\n",
       "    </tr>\n",
       "  </thead>\n",
       "  <tbody>\n",
       "    <tr>\n",
       "      <th>1</th>\n",
       "      <td>Liverpool</td>\n",
       "      <td>0.200000</td>\n",
       "      <td>0.094340</td>\n",
       "      <td>0.000000</td>\n",
       "      <td>0.433962</td>\n",
       "      <td>1.000000</td>\n",
       "      <td>67.283019</td>\n",
       "    </tr>\n",
       "    <tr>\n",
       "      <th>6</th>\n",
       "      <td>Wolverhampton</td>\n",
       "      <td>0.466667</td>\n",
       "      <td>0.534591</td>\n",
       "      <td>0.799145</td>\n",
       "      <td>0.952830</td>\n",
       "      <td>0.593220</td>\n",
       "      <td>63.125554</td>\n",
       "    </tr>\n",
       "    <tr>\n",
       "      <th>0</th>\n",
       "      <td>Manchester City</td>\n",
       "      <td>0.000000</td>\n",
       "      <td>0.000000</td>\n",
       "      <td>0.205128</td>\n",
       "      <td>0.000000</td>\n",
       "      <td>0.983051</td>\n",
       "      <td>61.034333</td>\n",
       "    </tr>\n",
       "    <tr>\n",
       "      <th>12</th>\n",
       "      <td>Newcastle</td>\n",
       "      <td>0.411111</td>\n",
       "      <td>0.446541</td>\n",
       "      <td>0.820513</td>\n",
       "      <td>0.924528</td>\n",
       "      <td>0.559322</td>\n",
       "      <td>59.586253</td>\n",
       "    </tr>\n",
       "    <tr>\n",
       "      <th>3</th>\n",
       "      <td>Tottenham</td>\n",
       "      <td>0.700000</td>\n",
       "      <td>0.308176</td>\n",
       "      <td>0.051282</td>\n",
       "      <td>0.509434</td>\n",
       "      <td>0.711864</td>\n",
       "      <td>58.400786</td>\n",
       "    </tr>\n",
       "  </tbody>\n",
       "</table>\n",
       "</div>"
      ],
      "text/plain": [
       "               Team  defence_saves  defence_blocks  defence_interceptions  \\\n",
       "1         Liverpool       0.200000        0.094340               0.000000   \n",
       "6     Wolverhampton       0.466667        0.534591               0.799145   \n",
       "0   Manchester City       0.000000        0.000000               0.205128   \n",
       "12        Newcastle       0.411111        0.446541               0.820513   \n",
       "3         Tottenham       0.700000        0.308176               0.051282   \n",
       "\n",
       "    defence_tackles  -(defence_goals_conceeded)  Total_Rating  \n",
       "1          0.433962                    1.000000     67.283019  \n",
       "6          0.952830                    0.593220     63.125554  \n",
       "0          0.000000                    0.983051     61.034333  \n",
       "12         0.924528                    0.559322     59.586253  \n",
       "3          0.509434                    0.711864     58.400786  "
      ]
     },
     "execution_count": 12,
     "metadata": {},
     "output_type": "execute_result"
    }
   ],
   "source": [
    "df_def[['defence_saves','defence_blocks','defence_interceptions','defence_tackles','-(defence_goals_conceeded)']] = \\\n",
    "    scaler.fit_transform(df_def[['defence_saves','defence_blocks','defence_interceptions','defence_tackles','-(defence_goals_conceeded)']])\n",
    "df_def['Total_Rating'] = df_def['-(defence_goals_conceeded)']*60 + df_def['defence_saves']*10 + \\\n",
    "    df_def['defence_blocks']*10 + df_def['defence_interceptions']*10 + df_def['defence_tackles']*10\n",
    "\n",
    "df_def.sort_values(by='Total_Rating', ascending=False).head()"
   ]
  },
  {
   "cell_type": "markdown",
   "metadata": {},
   "source": [
    "#### Answer:\n",
    "Liverpool has the best defense in the EPL Season 2018/2019, because they conceed goals the least compare to other teams, and the goal conceeded is the primary measure of this defensive performance rating calculation. Manchester City however as the EPL Season 2018/2019 Champion, surprisingly has worse defense performance than Wolverhampton which finished in position 7 that season."
   ]
  },
  {
   "cell_type": "markdown",
   "metadata": {},
   "source": [
    "### 5. Which team is good in financial aspect?\n",
    "Team financial aspect will be reviewed by comparing 'finance \\_team\\_market' and 'finance \\_tv\\_revenue' of each team. "
   ]
  },
  {
   "cell_type": "code",
   "execution_count": 13,
   "metadata": {},
   "outputs": [
    {
     "data": {
      "image/png": "[encoded data removed]",
      "text/plain": [
       "<Figure size 432x288 with 1 Axes>"
      ]
     },
     "metadata": {
      "needs_background": "light"
     },
     "output_type": "display_data"
    }
   ],
   "source": [
    "df.plot.barh(x='Team',y='finance _team_market').invert_yaxis()"
   ]
  },
  {
   "cell_type": "code",
   "execution_count": 14,
   "metadata": {},
   "outputs": [
    {
     "data": {
      "text/plain": [
       "<matplotlib.legend.Legend at 0x1634b46fcc8>"
      ]
     },
     "execution_count": 14,
     "metadata": {},
     "output_type": "execute_result"
    },
    {
     "data": {
      "image/png": "[encoded data removed]",
      "text/plain": [
       "<Figure size 432x288 with 1 Axes>"
      ]
     },
     "metadata": {
      "needs_background": "light"
     },
     "output_type": "display_data"
    }
   ],
   "source": [
    "df.plot.barh(x='Team',y='finance _tv_revenue').invert_yaxis()\n",
    "plt.legend(loc='lower right')"
   ]
  },
  {
   "cell_type": "markdown",
   "metadata": {},
   "source": [
    "#### Answer:\n",
    "The TV revenue for 20 teams in EPL is not that much difference from each other, therefore does not affect the financial aspect comparison significantly. However, the market value of each team is reflected into the league result as the team with higher team market is likely to finished on the top of other teams with lower team market. Manchester City has the best financial in EPL Season 2018/2019."
   ]
  },
  {
   "cell_type": "code",
   "execution_count": null,
   "metadata": {},
   "outputs": [],
   "source": []
  }
 ],
 "metadata": {
  "kernelspec": {
   "display_name": "Python 3",
   "language": "python",
   "name": "python3"
  },
  "language_info": {
   "codemirror_mode": {
    "name": "ipython",
    "version": 3
   },
   "file_extension": ".py",
   "mimetype": "text/x-python",
   "name": "python",
   "nbconvert_exporter": "python",
   "pygments_lexer": "ipython3",
   "version": "3.7.6"
  }
 },
 "nbformat": 4,
 "nbformat_minor": 4
}

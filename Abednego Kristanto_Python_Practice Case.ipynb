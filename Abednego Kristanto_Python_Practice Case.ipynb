{
 "cells": [
  {
   "cell_type": "markdown",
   "metadata": {
    "id": "3oWBbYjNHlu7"
   },
   "source": [
    "Berikut ini adalah contoh data pengguna aplikasi streaming musik. Buatlah sebuah system rekomendasi sederhana menggunakan data berikut ini:"
   ]
  },
  {
   "cell_type": "markdown",
   "metadata": {
    "id": "f8GawG31lRzf"
   },
   "source": [
    "| |Cherrybelle|Kangen Band|Netral|PAS Band|SM*SH|The Rain|Ungu|\n",
    "|---|---|---|---|---|---|---|--|\n",
    "|Agus|4.0|4.5|2.5||3.5||5.0|\n",
    "|Andi||2.0|5.0|4.5||||\n",
    "|Angga||||||4.5||\n",
    "|Indah||3.5|4.5|5.0|||4.0|\n",
    "|Siti|4.0|4.0||1.0|5.0||3.5|\n",
    "|Solihah|4.0|4.0||1.0|5.0||3.5|\n"
   ]
  },
  {
   "cell_type": "markdown",
   "metadata": {
    "id": "O_MU9oaHH6rm"
   },
   "source": [
    "Gunakanlah metode **Eucledian Distance** yang memiliki formula sebagai berikut:\n",
    "\n",
    "$d(x,y) = \\sqrt{\\sum \\limits_{k=1} ^{n}(x_{k} - y_{k})^{2}}$"
   ]
  },
  {
   "cell_type": "markdown",
   "metadata": {
    "id": "0NzY6fpdXacC"
   },
   "source": [
    "Berikut ini [referensi](https://colab.research.google.com/drive/1QswJVl5bxocK-ZL56_GYnQ0YOYjlpAj3?authuser=2#scrollTo=6molI_MzH4iX) untuk tugas di atas.\n",
    "\n",
    "> **`Hint: Ada beberapa bagian dalam tugas di atas yang belum dipraktekkan di referensi. Tapi santai, google selalu siap membantumu di saat kesulitan dan error datang.`**"
   ]
  },
  {
   "cell_type": "markdown",
   "metadata": {
    "id": "D6NzPd5Xd6iE"
   },
   "source": [
    "Implementasikan solusi dalam dua paradigma pemrograman, ***functional programming*** dan ***object oriented programming***."
   ]
  },
  {
   "cell_type": "markdown",
   "metadata": {},
   "source": [
    "#### 1. Membuat dictionary users"
   ]
  },
  {
   "cell_type": "code",
   "execution_count": 1,
   "metadata": {},
   "outputs": [],
   "source": [
    "users = {\n",
    "         \"Agus\": {'Cherybelle':4.0,\n",
    "                  'Kangen Band': 4.5,\n",
    "                  'Netral': 2.5,\n",
    "                  'SM*SH':3.5,\n",
    "                  'Ungu': 5.0},\n",
    "         \"Andi\": {'Kangen Band': 2,\n",
    "                  'Netral': 5.0,\n",
    "                  'PAS Band': 4.5},\n",
    "         \"Angga\":{'The Rain': 4.5},\n",
    "         \"Indah\": {'Kangen Band': 3.5,\n",
    "                  'Netral': 4.5,\n",
    "                  'PAS Band': 5.0,\n",
    "                  'Ungu': 4.0},\n",
    "         \"Siti\": {'Cherybelle':4.0,\n",
    "                  'Kangen Band': 4.0,\n",
    "                  'PAS Band': 1.0,\n",
    "                  'SM*SH':5.0,\n",
    "                  'Ungu': 3.5},\n",
    "         \"Solihah\": {'Cherybelle':4.0,\n",
    "                  'Kangen Band': 4.0,\n",
    "                  'PAS Band': 1.0,\n",
    "                  'SM*SH':5.0,\n",
    "                  'Ungu': 3.5}\n",
    "        }"
   ]
  },
  {
   "cell_type": "markdown",
   "metadata": {},
   "source": [
    "#### 2. Functional programming\n",
    "#####    2.a. Menghitung jarak (Eucledian distance)"
   ]
  },
  {
   "cell_type": "code",
   "execution_count": 2,
   "metadata": {},
   "outputs": [],
   "source": [
    "import numpy as np"
   ]
  },
  {
   "cell_type": "code",
   "execution_count": 3,
   "metadata": {},
   "outputs": [],
   "source": [
    "def eucledian(rating1,rating2):\n",
    "    distances = []\n",
    "    for key in rating1:\n",
    "        if key in rating2:\n",
    "            distances.append((rating1[key]-rating2[key])**2)\n",
    "        else:\n",
    "            # Jika jarak tidak dapat dihitung maka\n",
    "            # distance = np.nan atau null\n",
    "            distances.append(np.nan)\n",
    "    # Mengecek apakah semua nilai di list adalah np.nan\n",
    "    if np.isnan(distances).all():\n",
    "        # Jika ya maka return np.nan\n",
    "        distance = np.nan\n",
    "    else:\n",
    "        # Jika tidak maka dihitung 'eucledian distance'nya\n",
    "        distance = np.sqrt(np.nansum(distances))\n",
    "    return distance"
   ]
  },
  {
   "cell_type": "markdown",
   "metadata": {},
   "source": [
    "Contoh jarak antar users:"
   ]
  },
  {
   "cell_type": "code",
   "execution_count": 4,
   "metadata": {},
   "outputs": [
    {
     "name": "stdout",
     "output_type": "stream",
     "text": [
      "Distance between Agus and Andi: 3.5355339059327378\n",
      "Distance between Angga and Indah: nan\n",
      "Distance between Solihah and Siti: 0.0\n"
     ]
    }
   ],
   "source": [
    "print(\"Distance between Agus and Andi:\", eucledian(users['Agus'], users['Andi']))\n",
    "print(\"Distance between Angga and Indah:\", eucledian(users['Angga'], users['Indah']))\n",
    "print(\"Distance between Solihah and Siti:\", eucledian(users['Solihah'], users['Siti']))"
   ]
  },
  {
   "cell_type": "markdown",
   "metadata": {},
   "source": [
    "##### 2.b. Menghitung jarak user terdekat (nearest neighbor)"
   ]
  },
  {
   "cell_type": "code",
   "execution_count": 5,
   "metadata": {},
   "outputs": [],
   "source": [
    "def nearestNeighbor(username, data):\n",
    "    distances = []\n",
    "    for user in data:\n",
    "        if user != username:\n",
    "            distance = eucledian(data[username], data[user])\n",
    "            # Mengecek apakah distance = np.nan\n",
    "            if np.isnan(distance):\n",
    "                # Jika ya maka pass atau skip\n",
    "                pass\n",
    "            else:\n",
    "                #Jika tidak maka ditambahkan ke list 'distances'\n",
    "                distances.append((distance, user))\n",
    "    distances.sort()\n",
    "    return distances"
   ]
  },
  {
   "cell_type": "markdown",
   "metadata": {},
   "source": [
    "Contoh perhitungan nearest neighbor:"
   ]
  },
  {
   "cell_type": "code",
   "execution_count": 6,
   "metadata": {},
   "outputs": [
    {
     "name": "stdout",
     "output_type": "stream",
     "text": [
      "Agus's nearest neighbor:\n",
      " [(2.179449471770337, 'Siti'), (2.179449471770337, 'Solihah'), (2.449489742783178, 'Indah'), (3.5355339059327378, 'Andi')]\n",
      "Andi's nearest neighbor:\n",
      " [(1.6583123951777, 'Indah'), (3.5355339059327378, 'Agus'), (4.031128874149275, 'Siti'), (4.031128874149275, 'Solihah')]\n",
      "Siti's nearest neighbor:\n",
      " [(0.0, 'Solihah'), (2.179449471770337, 'Agus'), (4.031128874149275, 'Andi'), (4.06201920231798, 'Indah')]\n",
      "Angga's nearest neighbor:\n",
      " []\n",
      "Indah's nearest neighbor:\n",
      " [(1.6583123951777, 'Andi'), (2.449489742783178, 'Agus'), (4.06201920231798, 'Siti'), (4.06201920231798, 'Solihah')]\n"
     ]
    }
   ],
   "source": [
    "print(\"Agus's nearest neighbor:\\n\", nearestNeighbor('Agus', users))\n",
    "print(\"Andi's nearest neighbor:\\n\", nearestNeighbor('Andi', users))\n",
    "print(\"Siti's nearest neighbor:\\n\", nearestNeighbor('Siti', users))\n",
    "print(\"Angga's nearest neighbor:\\n\", nearestNeighbor('Angga', users))\n",
    "print(\"Indah's nearest neighbor:\\n\", nearestNeighbor('Indah', users))"
   ]
  },
  {
   "cell_type": "markdown",
   "metadata": {},
   "source": [
    "##### 2.c. Merekomendasikan musisi"
   ]
  },
  {
   "cell_type": "code",
   "execution_count": 7,
   "metadata": {},
   "outputs": [],
   "source": [
    "def recommend(username, data):\n",
    "    recommendations = []\n",
    "    if len(nearestNeighbor(username, data)) != 0:\n",
    "        # 'nearest' mengambil nama user yang muncul pertama meskipun\n",
    "        # memiliki 'distance' yang sama dengan neighbor kedua\n",
    "        nearest = nearestNeighbor(username, data)[0][1]\n",
    "        nearestRatings = data[nearest]\n",
    "        userRatings = data[username]\n",
    "        for artist in nearestRatings:\n",
    "            if artist not in userRatings:\n",
    "                recommendations.append((nearestRatings[artist], artist))\n",
    "        recommendations.sort(reverse=True)\n",
    "    return recommendations"
   ]
  },
  {
   "cell_type": "markdown",
   "metadata": {},
   "source": [
    "Hasil rekomendasi:"
   ]
  },
  {
   "cell_type": "code",
   "execution_count": 8,
   "metadata": {},
   "outputs": [
    {
     "name": "stdout",
     "output_type": "stream",
     "text": [
      "Recommendation for Agus: [(1.0, 'PAS Band')]\n",
      "Recommendation for Andi: [(4.0, 'Ungu')]\n",
      "Recommendation for Angga: []\n",
      "Recommendation for Indah: []\n",
      "Recommendation for Siti: []\n",
      "Recommendation for Solihah: []\n"
     ]
    }
   ],
   "source": [
    "print(\"Recommendation for Agus:\", recommend(\"Agus\", users))\n",
    "print(\"Recommendation for Andi:\", recommend(\"Andi\", users))\n",
    "print(\"Recommendation for Angga:\", recommend(\"Angga\", users))\n",
    "print(\"Recommendation for Indah:\", recommend(\"Indah\", users))\n",
    "print(\"Recommendation for Siti:\", recommend(\"Siti\", users))\n",
    "print(\"Recommendation for Solihah:\", recommend(\"Solihah\", users))"
   ]
  },
  {
   "cell_type": "markdown",
   "metadata": {},
   "source": [
    "Kesimpulan:  \n",
    "Agus mendapat rekomendasi dari Siti. Andi mendapat rekomendasi dari Indah. Angga tidak mendapat rekomendasi karena tidak ada satu user pun yang memiliki 'distance' dengan Angga. Indah tidak mendapat rekomendasi karena user terdekatnya, Andi, tidak memberi rating ke musisi lain yang belum diberi rating oleh Indah. Sementara itu, Siti dan Solihah tidak mendapat rekomendasi karena semua musisi dan rating yang mereka berikan adalah sama, sehingga keduanya memiliki 'distance' = 0 dan tidak ada musisi lain yang bisa direkomendasikan."
   ]
  },
  {
   "cell_type": "markdown",
   "metadata": {},
   "source": [
    "#### 3. Object oriented programming"
   ]
  },
  {
   "cell_type": "code",
   "execution_count": 9,
   "metadata": {},
   "outputs": [],
   "source": [
    "class recommender:\n",
    "    # Memasukkan semua function yang telah dibuat di atas\n",
    "    # ke dalam class recommender\n",
    "    def __init__(self, data):\n",
    "        self.data = data\n",
    "    \n",
    "    def eucledian(self, username1,username2):\n",
    "        rating1 = self.data[username1]\n",
    "        rating2 = self.data[username2]\n",
    "        distances = []\n",
    "        for key in rating1:\n",
    "            if key in rating2:\n",
    "                distances.append((rating1[key]-rating2[key])**2)\n",
    "            else:\n",
    "                # Jika jarak tidak dapat dihitung maka\n",
    "                # distance = np.nan atau null\n",
    "                distances.append(np.nan)\n",
    "        # Mengecek apakah semua nilai di list adalah np.nan\n",
    "        if np.isnan(distances).all():\n",
    "            # Jika ya maka return np.nan\n",
    "            distance = np.nan\n",
    "        else:\n",
    "            # Jika tidak maka dihitung 'eucledian distance'nya\n",
    "            distance = np.sqrt(np.nansum(distances))\n",
    "        return distance\n",
    "    \n",
    "    def nearestNeighbor(self, username):\n",
    "        distances = []\n",
    "        for user in self.data:\n",
    "            if user != username:\n",
    "                distance = self.eucledian(username, user)\n",
    "                # Mengecek apakah distance = np.nan\n",
    "                if np.isnan(distance):\n",
    "                    # Jika ya maka pass atau skip\n",
    "                    pass\n",
    "                else:\n",
    "                    #Jika tidak maka ditambahkan ke list 'distances'\n",
    "                    distances.append((distance, user))\n",
    "        distances.sort()\n",
    "        return distances\n",
    "    \n",
    "    def recommend(self, username):\n",
    "        recommendations = []\n",
    "        if len(self.nearestNeighbor(username)) != 0:\n",
    "            # 'nearest' mengambil nama user yang muncul pertama meskipun\n",
    "            # memiliki 'distance' yang sama dengan neighbor kedua\n",
    "            nearest = self.nearestNeighbor(username)[0][1]\n",
    "            nearestRatings = self.data[nearest]\n",
    "            userRatings = self.data[username]\n",
    "            for artist in nearestRatings:\n",
    "                if artist not in userRatings:\n",
    "                    recommendations.append((nearestRatings[artist], artist))\n",
    "            recommendations.sort(reverse=True)\n",
    "        return recommendations"
   ]
  },
  {
   "cell_type": "code",
   "execution_count": 10,
   "metadata": {},
   "outputs": [],
   "source": [
    "user_rating = recommender(users)"
   ]
  },
  {
   "cell_type": "markdown",
   "metadata": {},
   "source": [
    "Contoh perhitungan 'eucledian distance' manggunakan object oriented programming:"
   ]
  },
  {
   "cell_type": "code",
   "execution_count": 11,
   "metadata": {},
   "outputs": [
    {
     "name": "stdout",
     "output_type": "stream",
     "text": [
      "Jarak antara Agus dan Andi: 3.5355339059327378\n",
      "Jarak antara Angga dan Indah: nan\n",
      "Jarak antara Solihah dan Siti: 0.0\n"
     ]
    }
   ],
   "source": [
    "print(\"Jarak antara Agus dan Andi:\", user_rating.eucledian('Agus','Andi'))\n",
    "print(\"Jarak antara Angga dan Indah:\", user_rating.eucledian('Angga','Indah'))\n",
    "print(\"Jarak antara Solihah dan Siti:\", user_rating.eucledian('Solihah','Siti'))"
   ]
  },
  {
   "cell_type": "markdown",
   "metadata": {},
   "source": [
    "Contoh hasil perhitungan nearest neighbor menggunakan object oriented programming:"
   ]
  },
  {
   "cell_type": "code",
   "execution_count": 12,
   "metadata": {},
   "outputs": [
    {
     "name": "stdout",
     "output_type": "stream",
     "text": [
      "nearest neighbor Agus:\n",
      " [(2.179449471770337, 'Siti'), (2.179449471770337, 'Solihah'), (2.449489742783178, 'Indah'), (3.5355339059327378, 'Andi')]\n",
      "nearest neighbor Andi:\n",
      " [(1.6583123951777, 'Indah'), (3.5355339059327378, 'Agus'), (4.031128874149275, 'Siti'), (4.031128874149275, 'Solihah')]\n",
      "nearest neighbor Siti:\n",
      " [(0.0, 'Solihah'), (2.179449471770337, 'Agus'), (4.031128874149275, 'Andi'), (4.06201920231798, 'Indah')]\n",
      "nearest neighbor Angga:\n",
      " []\n",
      "nearest neighbor Indah:\n",
      " [(1.6583123951777, 'Andi'), (2.449489742783178, 'Agus'), (4.06201920231798, 'Siti'), (4.06201920231798, 'Solihah')]\n"
     ]
    }
   ],
   "source": [
    "print(\"nearest neighbor Agus:\\n\", user_rating.nearestNeighbor('Agus'))\n",
    "print(\"nearest neighbor Andi:\\n\", user_rating.nearestNeighbor('Andi'))\n",
    "print(\"nearest neighbor Siti:\\n\", user_rating.nearestNeighbor('Siti'))\n",
    "print(\"nearest neighbor Angga:\\n\", user_rating.nearestNeighbor('Angga'))\n",
    "print(\"nearest neighbor Indah:\\n\", user_rating.nearestNeighbor('Indah'))"
   ]
  },
  {
   "cell_type": "markdown",
   "metadata": {},
   "source": [
    "Contoh hasil rekomendasi musisi menggunakan object oriented programming:"
   ]
  },
  {
   "cell_type": "code",
   "execution_count": 13,
   "metadata": {},
   "outputs": [
    {
     "name": "stdout",
     "output_type": "stream",
     "text": [
      "Rekomendasi untuk Agus: [(1.0, 'PAS Band')]\n",
      "Rekomendasi untuk Andi: [(4.0, 'Ungu')]\n",
      "Rekomendasi untuk Angga: []\n",
      "Rekomendasi untuk Indah: []\n",
      "Rekomendasi untuk Siti: []\n",
      "Rekomendasi untuk Solihah: []\n"
     ]
    }
   ],
   "source": [
    "print(\"Rekomendasi untuk Agus:\", user_rating.recommend(\"Agus\"))\n",
    "print(\"Rekomendasi untuk Andi:\", user_rating.recommend(\"Andi\"))\n",
    "print(\"Rekomendasi untuk Angga:\", user_rating.recommend(\"Angga\"))\n",
    "print(\"Rekomendasi untuk Indah:\", user_rating.recommend(\"Indah\"))\n",
    "print(\"Rekomendasi untuk Siti:\", user_rating.recommend(\"Siti\"))\n",
    "print(\"Rekomendasi untuk Solihah:\", user_rating.recommend(\"Solihah\"))"
   ]
  },
  {
   "cell_type": "markdown",
   "metadata": {},
   "source": [
    "Kesimpulan:  \n",
    "Hasil perhitungan dan rekomendasi menggunakan object oriented programming sama dengan hasil perhitungan dan rekomendasi menggunkana functional programming."
   ]
  },
  {
   "cell_type": "code",
   "execution_count": null,
   "metadata": {},
   "outputs": [],
   "source": []
  }
 ],
 "metadata": {
  "kernelspec": {
   "display_name": "Python 3",
   "language": "python",
   "name": "python3"
  },
  "language_info": {
   "codemirror_mode": {
    "name": "ipython",
    "version": 3
   },
   "file_extension": ".py",
   "mimetype": "text/x-python",
   "name": "python",
   "nbconvert_exporter": "python",
   "pygments_lexer": "ipython3",
   "version": "3.7.6"
  }
 },
 "nbformat": 4,
 "nbformat_minor": 4
}
